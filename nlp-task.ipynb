{
 "cells": [
  {
   "cell_type": "code",
   "execution_count": 16,
   "id": "f55cbee4-e5de-4c0c-ada8-8ad32a3442f8",
   "metadata": {},
   "outputs": [],
   "source": [
    "import tensorflow as tf\n",
    "from tensorflow import keras\n",
    "from tensorflow.keras.preprocessing.sequence import pad_sequences\n",
    "from tensorflow.keras.preprocessing.text import Tokenizer\n",
    "from tensorflow.keras.models import Sequential\n",
    "from tensorflow.keras.layers import Embedding, SimpleRNN, Dense\n",
    "import numpy as np"
   ]
  },
  {
   "cell_type": "code",
   "execution_count": null,
   "id": "94522ef1-a16a-48e6-b2f1-4b16581dc67e",
   "metadata": {},
   "outputs": [],
   "source": [
    "numWords = 10000 \n",
    "maxLength = 100  \n",
    "\n",
    "(xTrain, yTrain), (xTest, yTest) = keras.datasets.imdb.load_data(numWords=numWords)"
   ]
  },
  {
   "cell_type": "code",
   "execution_count": null,
   "id": "2ba505f6-b3fc-461b-b66b-a0385cdf8cfc",
   "metadata": {},
   "outputs": [],
   "source": [
    "xTrain = pad_sequences(xTrain, maxlen=maxLength)\n",
    "xTest = pad_sequences(xTest, maxlen=maxLength)"
   ]
  },
  {
   "cell_type": "code",
   "execution_count": null,
   "id": "47abefb2-2e03-4d35-bc23-89a8b81c40e7",
   "metadata": {},
   "outputs": [],
   "source": [
    "model = Sequential([\n",
    "    Embedding(numWords, 32, input_length=maxLength),\n",
    "    SimpleRNN(16),  \n",
    "    Dense(1, activation='sigmoid')\n",
    "])"
   ]
  },
  {
   "cell_type": "code",
   "execution_count": null,
   "id": "78f20ad6-cb51-4981-852d-fd1bbeb68923",
   "metadata": {},
   "outputs": [
    {
     "name": "stdout",
     "output_type": "stream",
     "text": [
      "Epoch 1/5\n",
      "\u001b[1m391/391\u001b[0m \u001b[32m━━━━━━━━━━━━━━━━━━━━\u001b[0m\u001b[37m\u001b[0m \u001b[1m6s\u001b[0m 12ms/step - accuracy: 0.6578 - loss: 0.6098 - val_accuracy: 0.8273 - val_loss: 0.3976\n",
      "Epoch 2/5\n",
      "\u001b[1m391/391\u001b[0m \u001b[32m━━━━━━━━━━━━━━━━━━━━\u001b[0m\u001b[37m\u001b[0m \u001b[1m5s\u001b[0m 12ms/step - accuracy: 0.8700 - loss: 0.3254 - val_accuracy: 0.8380 - val_loss: 0.3786\n",
      "Epoch 3/5\n",
      "\u001b[1m391/391\u001b[0m \u001b[32m━━━━━━━━━━━━━━━━━━━━\u001b[0m\u001b[37m\u001b[0m \u001b[1m5s\u001b[0m 12ms/step - accuracy: 0.9211 - loss: 0.2167 - val_accuracy: 0.8336 - val_loss: 0.3946\n",
      "Epoch 4/5\n",
      "\u001b[1m391/391\u001b[0m \u001b[32m━━━━━━━━━━━━━━━━━━━━\u001b[0m\u001b[37m\u001b[0m \u001b[1m4s\u001b[0m 11ms/step - accuracy: 0.9531 - loss: 0.1430 - val_accuracy: 0.8191 - val_loss: 0.4540\n",
      "Epoch 5/5\n",
      "\u001b[1m391/391\u001b[0m \u001b[32m━━━━━━━━━━━━━━━━━━━━\u001b[0m\u001b[37m\u001b[0m \u001b[1m5s\u001b[0m 11ms/step - accuracy: 0.9723 - loss: 0.0905 - val_accuracy: 0.8196 - val_loss: 0.5311\n"
     ]
    },
    {
     "data": {
      "text/plain": [
       "<keras.src.callbacks.history.History at 0x21499c62e90>"
      ]
     },
     "execution_count": 20,
     "metadata": {},
     "output_type": "execute_result"
    }
   ],
   "source": [
    "model.compile(loss='binary_crossentropy', optimizer='adam', metrics=['accuracy'])\n",
    "\n",
    "model.fit(xTrain, yTrain, epochs=5, batch_size=64, validation_data=(xTest, yTest))"
   ]
  },
  {
   "cell_type": "code",
   "execution_count": null,
   "id": "2e9b4644-5330-4a05-99ec-8262bd044284",
   "metadata": {},
   "outputs": [
    {
     "name": "stdout",
     "output_type": "stream",
     "text": [
      "\u001b[1m782/782\u001b[0m \u001b[32m━━━━━━━━━━━━━━━━━━━━\u001b[0m\u001b[37m\u001b[0m \u001b[1m2s\u001b[0m 2ms/step - accuracy: 0.8190 - loss: 0.5357\n",
      "Test Accuracy: 0.82\n"
     ]
    }
   ],
   "source": [
    "# Evaluate the model\n",
    "loss, accuracy = model.evaluate(xTest, yTest)\n",
    "print(f\"Test Accuracy: {accuracy:.2f}\")"
   ]
  },
  {
   "cell_type": "code",
   "execution_count": null,
   "id": "74d0e20c-04ee-4ae8-8234-f45e1025ae75",
   "metadata": {},
   "outputs": [],
   "source": []
  }
 ],
 "metadata": {
  "kernelspec": {
   "display_name": "Python 3 (ipykernel)",
   "language": "python",
   "name": "python3"
  },
  "language_info": {
   "codemirror_mode": {
    "name": "ipython",
    "version": 3
   },
   "file_extension": ".py",
   "mimetype": "text/x-python",
   "name": "python",
   "nbconvert_exporter": "python",
   "pygments_lexer": "ipython3",
   "version": "3.11.10"
  }
 },
 "nbformat": 4,
 "nbformat_minor": 5
}
